{
 "cells": [
  {
   "cell_type": "code",
   "execution_count": 20,
   "id": "e4af8214",
   "metadata": {},
   "outputs": [],
   "source": [
    "import json\n",
    "import requests\n",
    "from pprint import pprint\n",
    "\n",
    "# base_url = \"http://localhost:8000\" # local\n",
    "base_url = \"http://localhost:8002\"  # docker"
   ]
  },
  {
   "cell_type": "markdown",
   "id": "2c85756c",
   "metadata": {},
   "source": [
    "### Check API Health\n"
   ]
  },
  {
   "cell_type": "code",
   "execution_count": 9,
   "id": "a693c5e8",
   "metadata": {},
   "outputs": [
    {
     "name": "stdout",
     "output_type": "stream",
     "text": [
      "http://localhost:8002/healthz\n",
      "Health: True\n"
     ]
    }
   ],
   "source": [
    "path = \"/healthz\"\n",
    "endpoint = f\"{base_url}{path}\"\n",
    "print(endpoint)\n",
    "response = requests.get(endpoint)\n",
    "print(f\"Health: {response.ok}\")"
   ]
  },
  {
   "cell_type": "markdown",
   "id": "3708e7e9",
   "metadata": {},
   "source": [
    "## Get Data\n"
   ]
  },
  {
   "cell_type": "markdown",
   "id": "c8f38cfa",
   "metadata": {},
   "source": [
    "### All Events\n"
   ]
  },
  {
   "cell_type": "code",
   "execution_count": 21,
   "id": "f51a34ab",
   "metadata": {},
   "outputs": [
    {
     "name": "stdout",
     "output_type": "stream",
     "text": [
      "http://localhost:8002/api/events\n",
      "status code 200\n",
      "{'count': 3,\n",
      " 'results': [{'created_at': '2025-06-15T14:08:49.027936Z',\n",
      "              'description': 'inline event test',\n",
      "              'id': 3,\n",
      "              'page': '/my_third_page',\n",
      "              'updated_at': '2025-06-15T14:08:55.719603Z'},\n",
      "             {'created_at': '2025-06-15T14:08:45.086905Z',\n",
      "              'description': 'my default description',\n",
      "              'id': 2,\n",
      "              'page': '/my_second_page',\n",
      "              'updated_at': '2025-06-15T14:08:45.086926Z'},\n",
      "             {'created_at': '2025-06-15T14:08:32.470390Z',\n",
      "              'description': 'my default description',\n",
      "              'id': 1,\n",
      "              'page': '/my_new_webpage',\n",
      "              'updated_at': '2025-06-15T14:08:32.470411Z'}]}\n"
     ]
    }
   ],
   "source": [
    "path = \"/api/events\"\n",
    "endpoint = f\"{base_url}{path}\"\n",
    "print(endpoint)\n",
    "response = requests.get(endpoint)\n",
    "print(f\"status code {response.status_code}\")\n",
    "if response.ok:\n",
    "    data = response.json()\n",
    "    pprint(data)\n",
    "    # for row in data.get(\"results\"):\n",
    "    #     print(row)"
   ]
  },
  {
   "cell_type": "markdown",
   "id": "f7b16fcf",
   "metadata": {},
   "source": [
    "### Simple Data Types: Single Event\n"
   ]
  },
  {
   "cell_type": "code",
   "execution_count": null,
   "id": "2f01b44e",
   "metadata": {},
   "outputs": [],
   "source": [
    "# path = \"/api/events/1\"\n",
    "path = \"/api/events/5\"\n",
    "endpoint = f\"{base_url}{path}\"\n",
    "\n",
    "\n",
    "print(endpoint)\n",
    "r = requests.get(endpoint)\n",
    "print(r.ok, r.status_code)\n",
    "if r.ok:\n",
    "    data = r.json()\n",
    "    print(data)"
   ]
  },
  {
   "cell_type": "markdown",
   "id": "33266a8b",
   "metadata": {},
   "source": [
    "### List Data Types: Multiple Events\n"
   ]
  },
  {
   "cell_type": "code",
   "execution_count": null,
   "id": "39511c65",
   "metadata": {},
   "outputs": [],
   "source": [
    "path = \"/api/events\"\n",
    "endpoint = f\"{base_url}{path}\"\n",
    "response = requests.get(endpoint)\n",
    "print(endpoint, response.status_code)\n",
    "if response.ok:\n",
    "    data = response.json()\n",
    "    print(data)"
   ]
  },
  {
   "cell_type": "markdown",
   "id": "d74512fd",
   "metadata": {},
   "source": [
    "### Simple Data Types: Post Event\n",
    "\n",
    "Not a valid json data\n"
   ]
  },
  {
   "cell_type": "code",
   "execution_count": null,
   "id": "887d3103",
   "metadata": {},
   "outputs": [],
   "source": [
    "path = \"/api/events\"\n",
    "endpoint = f\"{base_url}{path}\"\n",
    "# print(endpoint)\n",
    "# payload = {\"page\": \"/test+\"}\n",
    "payload = {\"id\": 27}\n",
    "response = requests.post(endpoint, data=payload)\n",
    "print(response.headers)\n",
    "print(response.text)\n",
    "if response.ok:\n",
    "    data = response.json()\n",
    "    print(data)"
   ]
  },
  {
   "cell_type": "markdown",
   "id": "55ba7983",
   "metadata": {},
   "source": [
    "Valid json data\n"
   ]
  },
  {
   "cell_type": "code",
   "execution_count": null,
   "id": "714ef6ba",
   "metadata": {},
   "outputs": [],
   "source": [
    "# import json\n",
    "\n",
    "payload = {\"page\": \"/test+\"}\n",
    "headers = {\"Content-Type\": \"application/json\"}\n",
    "\n",
    "response = requests.post(endpoint, data=json.dumps(payload), headers=headers)\n",
    "\n",
    "# Print the response\n",
    "print(response.status_code)\n",
    "# print(response.headers) -> still receiving 'content-type': 'application/json', even if the headers changed to xml type\n",
    "print(response.headers)\n",
    "print(response.text)"
   ]
  },
  {
   "cell_type": "code",
   "execution_count": null,
   "id": "47bfdfa4",
   "metadata": {},
   "outputs": [],
   "source": [
    "# import requests\n",
    "# import xml.etree.ElementTree as ET\n",
    "\n",
    "# # API endpoint\n",
    "# url = \"http://localhost:8000/api/events\"\n",
    "\n",
    "# # Create the XML payload\n",
    "# root = ET.Element(\"event\")\n",
    "# page = ET.SubElement(root, \"page\")\n",
    "# page.text = \"/test+\"\n",
    "\n",
    "# # Convert the XML to a string\n",
    "# xml_data = ET.tostring(root, encoding=\"utf8\").decode(\"utf8\")\n",
    "\n",
    "# # Set the headers\n",
    "# headers = {\"Content-Type\": \"application/xml\"}\n",
    "\n",
    "# # Send the POST request\n",
    "# response = requests.post(url, data=xml_data, headers=headers)\n",
    "\n",
    "# # Print the response\n",
    "# print(response.status_code)\n",
    "# print(response.headers)\n",
    "# print(response.text)"
   ]
  },
  {
   "cell_type": "markdown",
   "id": "1a268d62",
   "metadata": {},
   "source": [
    "## Send Data to the API\n"
   ]
  },
  {
   "cell_type": "markdown",
   "id": "49fae642",
   "metadata": {},
   "source": [
    "### Create Event Data\n"
   ]
  },
  {
   "cell_type": "code",
   "execution_count": 12,
   "id": "e3977b7f",
   "metadata": {},
   "outputs": [
    {
     "name": "stdout",
     "output_type": "stream",
     "text": [
      "{'page': '/my_third_page', 'created_at': '2025-06-15T14:08:49.027936Z', 'updated_at': '2025-06-15T14:08:49.027942Z', 'description': 'my default description', 'id': 3} <class 'dict'>\n"
     ]
    }
   ],
   "source": [
    "path = \"/api/events/\"\n",
    "create_endpoint = f\"{base_url}{path}\"\n",
    "\n",
    "# response = requests.post(create_endpoint, json={\"page\": \"/my_new_webpage\"})\n",
    "# response = requests.post(create_endpoint, json={\"page\": \"/my_second_page\"})\n",
    "response = requests.post(create_endpoint, json={\"page\": \"/my_third_page\"})\n",
    "\n",
    "# print(response.status_code)\n",
    "# print(response.headers)\n",
    "# print(response.text)\n",
    "if response.ok:\n",
    "    data = response.json()\n",
    "    print(data, type(data))\n",
    "else:\n",
    "    print(response.text)"
   ]
  },
  {
   "cell_type": "markdown",
   "id": "ba524185",
   "metadata": {},
   "source": [
    "### Update Event Data\n"
   ]
  },
  {
   "cell_type": "code",
   "execution_count": 13,
   "id": "91df1c4c",
   "metadata": {},
   "outputs": [
    {
     "name": "stdout",
     "output_type": "stream",
     "text": [
      "True 200\n",
      "<class 'dict'> {'page': '/my_third_page', 'created_at': '2025-06-15T14:08:49.027936Z', 'updated_at': '2025-06-15T14:08:55.719603Z', 'description': 'inline event test', 'id': 3}\n"
     ]
    }
   ],
   "source": [
    "detail_path = \"/api/events/3\"\n",
    "detail_endpoint = f\"{base_url}{detail_path}\"\n",
    "r = requests.put(detail_endpoint, json={\"description\": \"inline event test\", \"id\": 555})\n",
    "print(r.ok, r.status_code)\n",
    "# print(r.headers)\n",
    "if r.ok:\n",
    "    data = r.json()\n",
    "    print(type(data), data)\n",
    "else:\n",
    "    print(response.text)"
   ]
  },
  {
   "cell_type": "markdown",
   "id": "5bf7d636",
   "metadata": {},
   "source": [
    "## Delete Event Data\n"
   ]
  },
  {
   "cell_type": "code",
   "execution_count": null,
   "id": "e794c0b2",
   "metadata": {},
   "outputs": [
    {
     "name": "stdout",
     "output_type": "stream",
     "text": [
      "False 404\n",
      "{\"status\":\"ok\"}\n",
      "{'date': 'Sun, 15 Jun 2025 11:31:34 GMT', 'server': 'uvicorn', 'content-length': '29', 'content-type': 'application/json'}\n"
     ]
    }
   ],
   "source": [
    "detail_path = \"/api/events/6\"\n",
    "detail_endpoint = f\"{base_url}{detail_path}\"\n",
    "r = requests.delete(detail_endpoint)\n",
    "print(r.ok, r.status_code)\n",
    "if r.ok:\n",
    "    data = r.json()\n",
    "    print(type(data), data)\n",
    "else:\n",
    "    print(response.text)\n",
    "    print(r.headers)"
   ]
  },
  {
   "cell_type": "code",
   "execution_count": null,
   "id": "9f58a162",
   "metadata": {},
   "outputs": [],
   "source": []
  }
 ],
 "metadata": {
  "kernelspec": {
   "display_name": "fastapi-timescaledb",
   "language": "python",
   "name": "python3"
  },
  "language_info": {
   "codemirror_mode": {
    "name": "ipython",
    "version": 3
   },
   "file_extension": ".py",
   "mimetype": "text/x-python",
   "name": "python",
   "nbconvert_exporter": "python",
   "pygments_lexer": "ipython3",
   "version": "3.12.9"
  }
 },
 "nbformat": 4,
 "nbformat_minor": 5
}
