{
 "cells": [
  {
   "cell_type": "code",
   "execution_count": 28,
   "id": "e4af8214",
   "metadata": {},
   "outputs": [],
   "source": [
    "import json\n",
    "import requests\n",
    "\n",
    "base_url = \"http://localhost:8000\""
   ]
  },
  {
   "cell_type": "markdown",
   "id": "2c85756c",
   "metadata": {},
   "source": [
    "### Check API Health\n"
   ]
  },
  {
   "cell_type": "code",
   "execution_count": 29,
   "id": "a693c5e8",
   "metadata": {},
   "outputs": [
    {
     "name": "stdout",
     "output_type": "stream",
     "text": [
      "http://localhost:8000/healthz\n",
      "Health: True\n"
     ]
    }
   ],
   "source": [
    "path = \"/healthz\"\n",
    "endpoint = f\"{base_url}{path}\"\n",
    "print(endpoint)\n",
    "response = requests.get(endpoint)\n",
    "print(f\"Health: {response.ok}\")"
   ]
  },
  {
   "cell_type": "markdown",
   "id": "3708e7e9",
   "metadata": {},
   "source": [
    "## Get Data\n"
   ]
  },
  {
   "cell_type": "markdown",
   "id": "c8f38cfa",
   "metadata": {},
   "source": [
    "### All Events\n"
   ]
  },
  {
   "cell_type": "code",
   "execution_count": 30,
   "id": "f51a34ab",
   "metadata": {},
   "outputs": [],
   "source": [
    "# path = \"/api/events\"\n",
    "# endpoint = f\"{base_url}{path}\"\n",
    "# print(endpoint)\n",
    "# response = requests.get(endpoint)\n",
    "# print(f\"status code {response.status_code}\")\n",
    "# # print(f\"{response.text=}\")\n",
    "# if response.ok:\n",
    "#     data = response.json()\n",
    "#     print(data)"
   ]
  },
  {
   "cell_type": "markdown",
   "id": "f7b16fcf",
   "metadata": {},
   "source": [
    "### Simple Data Types: Single Event\n"
   ]
  },
  {
   "cell_type": "code",
   "execution_count": 31,
   "id": "2f01b44e",
   "metadata": {},
   "outputs": [
    {
     "name": "stdout",
     "output_type": "stream",
     "text": [
      "http://localhost:8000/api/events/12\n",
      "{'id': 12, 'page': '', 'description': ''}\n"
     ]
    }
   ],
   "source": [
    "path = \"/api/events/12\"\n",
    "endpoint = f\"{base_url}{path}\"\n",
    "print(endpoint)\n",
    "response = requests.get(endpoint)\n",
    "if response.ok:\n",
    "    data = response.json()\n",
    "    print(data)"
   ]
  },
  {
   "cell_type": "markdown",
   "id": "33266a8b",
   "metadata": {},
   "source": [
    "### List Data Types: Multiple Events\n"
   ]
  },
  {
   "cell_type": "code",
   "execution_count": 32,
   "id": "39511c65",
   "metadata": {},
   "outputs": [
    {
     "name": "stdout",
     "output_type": "stream",
     "text": [
      "http://localhost:8000/api/events 200\n",
      "{'count': 3, 'results': [{'id': 1, 'page': '', 'description': ''}, {'id': 2, 'page': '', 'description': ''}, {'id': 3, 'page': '', 'description': ''}]}\n"
     ]
    }
   ],
   "source": [
    "path = \"/api/events\"\n",
    "endpoint = f\"{base_url}{path}\"\n",
    "response = requests.get(endpoint)\n",
    "print(endpoint, response.status_code)\n",
    "if response.ok:\n",
    "    data = response.json()\n",
    "    print(data)"
   ]
  },
  {
   "cell_type": "markdown",
   "id": "d74512fd",
   "metadata": {},
   "source": [
    "### Simple Data Types: Post Event\n",
    "\n",
    "Not a valid json data\n"
   ]
  },
  {
   "cell_type": "code",
   "execution_count": 33,
   "id": "887d3103",
   "metadata": {},
   "outputs": [
    {
     "name": "stdout",
     "output_type": "stream",
     "text": [
      "{'date': 'Sun, 08 Jun 2025 17:59:12 GMT', 'server': 'uvicorn', 'content-length': '152', 'content-type': 'application/json'}\n",
      "{\"detail\":[{\"type\":\"model_attributes_type\",\"loc\":[\"body\"],\"msg\":\"Input should be a valid dictionary or object to extract fields from\",\"input\":\"id=27\"}]}\n"
     ]
    }
   ],
   "source": [
    "path = \"/api/events\"\n",
    "endpoint = f\"{base_url}{path}\"\n",
    "# print(endpoint)\n",
    "# payload = {\"page\": \"/test+\"}\n",
    "payload = {\"id\": 27}\n",
    "response = requests.post(endpoint, data=payload)\n",
    "print(response.headers)\n",
    "print(response.text)\n",
    "if response.ok:\n",
    "    data = response.json()\n",
    "    print(data)"
   ]
  },
  {
   "cell_type": "markdown",
   "id": "55ba7983",
   "metadata": {},
   "source": [
    "Valid json data\n"
   ]
  },
  {
   "cell_type": "code",
   "execution_count": 34,
   "id": "714ef6ba",
   "metadata": {},
   "outputs": [
    {
     "name": "stdout",
     "output_type": "stream",
     "text": [
      "200\n",
      "{'date': 'Sun, 08 Jun 2025 17:59:15 GMT', 'server': 'uvicorn', 'content-length': '43', 'content-type': 'application/json'}\n",
      "{\"id\":123,\"page\":\"/test+\",\"description\":\"\"}\n"
     ]
    }
   ],
   "source": [
    "# import json\n",
    "\n",
    "payload = {\"page\": \"/test+\"}\n",
    "headers = {\"Content-Type\": \"application/json\"}\n",
    "\n",
    "response = requests.post(endpoint, data=json.dumps(payload), headers=headers)\n",
    "\n",
    "# Print the response\n",
    "print(response.status_code)\n",
    "# print(response.headers) -> still receiving 'content-type': 'application/json', even if the headers changed to xml type\n",
    "print(response.headers)\n",
    "print(response.text)"
   ]
  },
  {
   "cell_type": "code",
   "execution_count": 35,
   "id": "47bfdfa4",
   "metadata": {},
   "outputs": [],
   "source": [
    "# import requests\n",
    "# import xml.etree.ElementTree as ET\n",
    "\n",
    "# # API endpoint\n",
    "# url = \"http://localhost:8000/api/events\"\n",
    "\n",
    "# # Create the XML payload\n",
    "# root = ET.Element(\"event\")\n",
    "# page = ET.SubElement(root, \"page\")\n",
    "# page.text = \"/test+\"\n",
    "\n",
    "# # Convert the XML to a string\n",
    "# xml_data = ET.tostring(root, encoding=\"utf8\").decode(\"utf8\")\n",
    "\n",
    "# # Set the headers\n",
    "# headers = {\"Content-Type\": \"application/xml\"}\n",
    "\n",
    "# # Send the POST request\n",
    "# response = requests.post(url, data=xml_data, headers=headers)\n",
    "\n",
    "# # Print the response\n",
    "# print(response.status_code)\n",
    "# print(response.headers)\n",
    "# print(response.text)"
   ]
  },
  {
   "cell_type": "markdown",
   "id": "1a268d62",
   "metadata": {},
   "source": [
    "## Send Data to the API\n"
   ]
  },
  {
   "cell_type": "markdown",
   "id": "49fae642",
   "metadata": {},
   "source": [
    "### Create Event Data\n"
   ]
  },
  {
   "cell_type": "code",
   "execution_count": 42,
   "id": "e3977b7f",
   "metadata": {},
   "outputs": [
    {
     "name": "stdout",
     "output_type": "stream",
     "text": [
      "{'id': 123, 'page': '/my_new_webpage', 'description': 'my default description'} <class 'dict'>\n"
     ]
    }
   ],
   "source": [
    "path = \"/api/events/\"\n",
    "create_endpoint = f\"{base_url}{path}\"\n",
    "\n",
    "response = requests.post(create_endpoint, json={\"page\": \"/my_new_webpage\"})\n",
    "\n",
    "# print(response.status_code)\n",
    "# print(response.headers)\n",
    "# print(response.text)\n",
    "if response.ok:\n",
    "    data = response.json()\n",
    "    print(data, type(data))\n",
    "else:\n",
    "    print(response.text)"
   ]
  },
  {
   "cell_type": "markdown",
   "id": "ba524185",
   "metadata": {},
   "source": [
    "### Update Event Data\n"
   ]
  },
  {
   "cell_type": "code",
   "execution_count": 43,
   "id": "91df1c4c",
   "metadata": {},
   "outputs": [
    {
     "name": "stdout",
     "output_type": "stream",
     "text": [
      "{'id': 12, 'page': '', 'description': 'hello world'} <class 'dict'>\n"
     ]
    }
   ],
   "source": [
    "detail_path = \"/api/events/12\"\n",
    "detail_endpoint = f\"{base_url}{detail_path}\"\n",
    "\n",
    "response = requests.put(detail_endpoint, json={\"description\": \"hello world\"})\n",
    "\n",
    "# print(response.status_code)\n",
    "# print(response.headers)\n",
    "if response.ok:\n",
    "    data = response.json()\n",
    "    print(data, type(data))\n",
    "else:\n",
    "    print(response.text)"
   ]
  },
  {
   "cell_type": "code",
   "execution_count": null,
   "id": "e794c0b2",
   "metadata": {},
   "outputs": [],
   "source": []
  }
 ],
 "metadata": {
  "kernelspec": {
   "display_name": "fastapi-timescaledb",
   "language": "python",
   "name": "python3"
  },
  "language_info": {
   "codemirror_mode": {
    "name": "ipython",
    "version": 3
   },
   "file_extension": ".py",
   "mimetype": "text/x-python",
   "name": "python",
   "nbconvert_exporter": "python",
   "pygments_lexer": "ipython3",
   "version": "3.12.9"
  }
 },
 "nbformat": 4,
 "nbformat_minor": 5
}
