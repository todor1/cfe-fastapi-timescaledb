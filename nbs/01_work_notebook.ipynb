{
 "cells": [
  {
   "cell_type": "code",
   "execution_count": 1,
   "id": "e4af8214",
   "metadata": {},
   "outputs": [],
   "source": [
    "import json\n",
    "import requests\n",
    "from pprint import pprint\n",
    "\n",
    "# base_url = \"http://localhost:8000\" # local\n",
    "base_url = \"http://localhost:8002\"  # docker"
   ]
  },
  {
   "cell_type": "markdown",
   "id": "2c85756c",
   "metadata": {},
   "source": [
    "### Check API Health\n"
   ]
  },
  {
   "cell_type": "code",
   "execution_count": 2,
   "id": "a693c5e8",
   "metadata": {},
   "outputs": [
    {
     "name": "stdout",
     "output_type": "stream",
     "text": [
      "http://localhost:8002/healthz\n",
      "Health: True\n"
     ]
    }
   ],
   "source": [
    "path = \"/healthz\"\n",
    "endpoint = f\"{base_url}{path}\"\n",
    "print(endpoint)\n",
    "response = requests.get(endpoint)\n",
    "print(f\"Health: {response.ok}\")"
   ]
  },
  {
   "cell_type": "markdown",
   "id": "3708e7e9",
   "metadata": {},
   "source": [
    "## Get Data\n"
   ]
  },
  {
   "cell_type": "markdown",
   "id": "c8f38cfa",
   "metadata": {},
   "source": [
    "### All Events\n"
   ]
  },
  {
   "cell_type": "code",
   "execution_count": 21,
   "id": "f51a34ab",
   "metadata": {},
   "outputs": [
    {
     "name": "stdout",
     "output_type": "stream",
     "text": [
      "http://localhost:8002/api/events\n",
      "status code 200\n",
      "{'count': 3,\n",
      " 'results': [{'created_at': '2025-06-15T14:08:49.027936Z',\n",
      "              'description': 'inline event test',\n",
      "              'id': 3,\n",
      "              'page': '/my_third_page',\n",
      "              'updated_at': '2025-06-15T14:08:55.719603Z'},\n",
      "             {'created_at': '2025-06-15T14:08:45.086905Z',\n",
      "              'description': 'my default description',\n",
      "              'id': 2,\n",
      "              'page': '/my_second_page',\n",
      "              'updated_at': '2025-06-15T14:08:45.086926Z'},\n",
      "             {'created_at': '2025-06-15T14:08:32.470390Z',\n",
      "              'description': 'my default description',\n",
      "              'id': 1,\n",
      "              'page': '/my_new_webpage',\n",
      "              'updated_at': '2025-06-15T14:08:32.470411Z'}]}\n"
     ]
    }
   ],
   "source": [
    "path = \"/api/events\"\n",
    "endpoint = f\"{base_url}{path}\"\n",
    "print(endpoint)\n",
    "response = requests.get(endpoint)\n",
    "print(f\"status code {response.status_code}\")\n",
    "if response.ok:\n",
    "    data = response.json()\n",
    "    pprint(data)\n",
    "    # for row in data.get(\"results\"):\n",
    "    #     print(row)"
   ]
  },
  {
   "cell_type": "markdown",
   "id": "f7b16fcf",
   "metadata": {},
   "source": [
    "### Simple Data Types: Single Event\n"
   ]
  },
  {
   "cell_type": "code",
   "execution_count": null,
   "id": "2f01b44e",
   "metadata": {},
   "outputs": [],
   "source": [
    "# path = \"/api/events/1\"\n",
    "path = \"/api/events/5\"\n",
    "endpoint = f\"{base_url}{path}\"\n",
    "\n",
    "\n",
    "print(endpoint)\n",
    "r = requests.get(endpoint)\n",
    "print(r.ok, r.status_code)\n",
    "if r.ok:\n",
    "    data = r.json()\n",
    "    print(data)"
   ]
  },
  {
   "cell_type": "markdown",
   "id": "33266a8b",
   "metadata": {},
   "source": [
    "### List Data Types: Multiple Events\n"
   ]
  },
  {
   "cell_type": "code",
   "execution_count": null,
   "id": "39511c65",
   "metadata": {},
   "outputs": [],
   "source": [
    "path = \"/api/events\"\n",
    "endpoint = f\"{base_url}{path}\"\n",
    "response = requests.get(endpoint)\n",
    "print(endpoint, response.status_code)\n",
    "if response.ok:\n",
    "    data = response.json()\n",
    "    print(data)"
   ]
  },
  {
   "cell_type": "markdown",
   "id": "d74512fd",
   "metadata": {},
   "source": [
    "### Simple Data Types: Post Event\n",
    "\n",
    "Not a valid json data\n"
   ]
  },
  {
   "cell_type": "code",
   "execution_count": null,
   "id": "887d3103",
   "metadata": {},
   "outputs": [],
   "source": [
    "path = \"/api/events\"\n",
    "endpoint = f\"{base_url}{path}\"\n",
    "# print(endpoint)\n",
    "# payload = {\"page\": \"/test+\"}\n",
    "payload = {\"id\": 27}\n",
    "response = requests.post(endpoint, data=payload)\n",
    "print(response.headers)\n",
    "print(response.text)\n",
    "if response.ok:\n",
    "    data = response.json()\n",
    "    print(data)"
   ]
  },
  {
   "cell_type": "markdown",
   "id": "55ba7983",
   "metadata": {},
   "source": [
    "Valid json data\n"
   ]
  },
  {
   "cell_type": "code",
   "execution_count": null,
   "id": "714ef6ba",
   "metadata": {},
   "outputs": [],
   "source": [
    "# import json\n",
    "\n",
    "payload = {\"page\": \"/test+\"}\n",
    "headers = {\"Content-Type\": \"application/json\"}\n",
    "\n",
    "response = requests.post(endpoint, data=json.dumps(payload), headers=headers)\n",
    "\n",
    "# Print the response\n",
    "print(response.status_code)\n",
    "# print(response.headers) -> still receiving 'content-type': 'application/json', even if the headers changed to xml type\n",
    "print(response.headers)\n",
    "print(response.text)"
   ]
  },
  {
   "cell_type": "code",
   "execution_count": null,
   "id": "47bfdfa4",
   "metadata": {},
   "outputs": [],
   "source": [
    "# import requests\n",
    "# import xml.etree.ElementTree as ET\n",
    "\n",
    "# # API endpoint\n",
    "# url = \"http://localhost:8000/api/events\"\n",
    "\n",
    "# # Create the XML payload\n",
    "# root = ET.Element(\"event\")\n",
    "# page = ET.SubElement(root, \"page\")\n",
    "# page.text = \"/test+\"\n",
    "\n",
    "# # Convert the XML to a string\n",
    "# xml_data = ET.tostring(root, encoding=\"utf8\").decode(\"utf8\")\n",
    "\n",
    "# # Set the headers\n",
    "# headers = {\"Content-Type\": \"application/xml\"}\n",
    "\n",
    "# # Send the POST request\n",
    "# response = requests.post(url, data=xml_data, headers=headers)\n",
    "\n",
    "# # Print the response\n",
    "# print(response.status_code)\n",
    "# print(response.headers)\n",
    "# print(response.text)"
   ]
  },
  {
   "cell_type": "markdown",
   "id": "1a268d62",
   "metadata": {},
   "source": [
    "## Send Data to the API\n"
   ]
  },
  {
   "cell_type": "markdown",
   "id": "49fae642",
   "metadata": {},
   "source": [
    "### Create Event Data\n"
   ]
  },
  {
   "cell_type": "code",
   "execution_count": 12,
   "id": "e3977b7f",
   "metadata": {},
   "outputs": [
    {
     "name": "stdout",
     "output_type": "stream",
     "text": [
      "{'page': '/my_third_page', 'created_at': '2025-06-15T14:08:49.027936Z', 'updated_at': '2025-06-15T14:08:49.027942Z', 'description': 'my default description', 'id': 3} <class 'dict'>\n"
     ]
    }
   ],
   "source": [
    "path = \"/api/events/\"\n",
    "create_endpoint = f\"{base_url}{path}\"\n",
    "\n",
    "# response = requests.post(create_endpoint, json={\"page\": \"/my_new_webpage\"})\n",
    "# response = requests.post(create_endpoint, json={\"page\": \"/my_second_page\"})\n",
    "response = requests.post(create_endpoint, json={\"page\": \"/my_third_page\"})\n",
    "\n",
    "# print(response.status_code)\n",
    "# print(response.headers)\n",
    "# print(response.text)\n",
    "if response.ok:\n",
    "    data = response.json()\n",
    "    print(data, type(data))\n",
    "else:\n",
    "    print(response.text)"
   ]
  },
  {
   "cell_type": "markdown",
   "id": "ba524185",
   "metadata": {},
   "source": [
    "### Update Event Data\n"
   ]
  },
  {
   "cell_type": "code",
   "execution_count": 13,
   "id": "91df1c4c",
   "metadata": {},
   "outputs": [
    {
     "name": "stdout",
     "output_type": "stream",
     "text": [
      "True 200\n",
      "<class 'dict'> {'page': '/my_third_page', 'created_at': '2025-06-15T14:08:49.027936Z', 'updated_at': '2025-06-15T14:08:55.719603Z', 'description': 'inline event test', 'id': 3}\n"
     ]
    }
   ],
   "source": [
    "detail_path = \"/api/events/3\"\n",
    "detail_endpoint = f\"{base_url}{detail_path}\"\n",
    "r = requests.put(detail_endpoint, json={\"description\": \"inline event test\", \"id\": 555})\n",
    "print(r.ok, r.status_code)\n",
    "# print(r.headers)\n",
    "if r.ok:\n",
    "    data = r.json()\n",
    "    print(type(data), data)\n",
    "else:\n",
    "    print(response.text)"
   ]
  },
  {
   "cell_type": "markdown",
   "id": "5bf7d636",
   "metadata": {},
   "source": [
    "## Delete Event Data\n"
   ]
  },
  {
   "cell_type": "code",
   "execution_count": null,
   "id": "e794c0b2",
   "metadata": {},
   "outputs": [
    {
     "name": "stdout",
     "output_type": "stream",
     "text": [
      "False 404\n",
      "{\"status\":\"ok\"}\n",
      "{'date': 'Sun, 15 Jun 2025 11:31:34 GMT', 'server': 'uvicorn', 'content-length': '29', 'content-type': 'application/json'}\n"
     ]
    }
   ],
   "source": [
    "detail_path = \"/api/events/6\"\n",
    "detail_endpoint = f\"{base_url}{detail_path}\"\n",
    "r = requests.delete(detail_endpoint)\n",
    "print(r.ok, r.status_code)\n",
    "if r.ok:\n",
    "    data = r.json()\n",
    "    print(type(data), data)\n",
    "else:\n",
    "    print(response.text)\n",
    "    print(r.headers)"
   ]
  },
  {
   "cell_type": "markdown",
   "id": "7fa8dde2",
   "metadata": {},
   "source": [
    "## Send multiple datasets to the API\n"
   ]
  },
  {
   "cell_type": "code",
   "execution_count": 3,
   "id": "c8b56e55",
   "metadata": {},
   "outputs": [
    {
     "name": "stdout",
     "output_type": "stream",
     "text": [
      "{'page': '/pricing', 'updated_at': '2025-06-17T16:53:56.731502', 'time': '2025-06-17T16:53:56.730638Z', 'id': 1, 'description': 'my default description'} <class 'dict'> None\n",
      "{'page': '/pages', 'updated_at': '2025-06-17T16:53:58.851274', 'time': '2025-06-17T16:53:58.850912Z', 'id': 101, 'description': 'my default description'} <class 'dict'> None\n",
      "{'page': '/pages', 'updated_at': '2025-06-17T16:54:00.889706', 'time': '2025-06-17T16:54:00.889154Z', 'id': 201, 'description': 'my default description'} <class 'dict'> None\n",
      "{'page': '/contact', 'updated_at': '2025-06-17T16:54:02.745170', 'time': '2025-06-17T16:54:02.744837Z', 'id': 301, 'description': 'my default description'} <class 'dict'> None\n",
      "{'page': '/contact', 'updated_at': '2025-06-17T16:54:04.886163', 'time': '2025-06-17T16:54:04.885608Z', 'id': 401, 'description': 'my default description'} <class 'dict'> None\n",
      "{'page': '/contact', 'updated_at': '2025-06-17T16:54:07.350607', 'time': '2025-06-17T16:54:07.350145Z', 'id': 501, 'description': 'my default description'} <class 'dict'> None\n",
      "{'page': '/pages', 'updated_at': '2025-06-17T16:54:09.835170', 'time': '2025-06-17T16:54:09.834277Z', 'id': 601, 'description': 'my default description'} <class 'dict'> None\n",
      "{'page': '/about', 'updated_at': '2025-06-17T16:54:12.158695', 'time': '2025-06-17T16:54:12.158166Z', 'id': 701, 'description': 'my default description'} <class 'dict'> None\n",
      "{'page': '/about', 'updated_at': '2025-06-17T16:54:14.077336', 'time': '2025-06-17T16:54:14.076922Z', 'id': 801, 'description': 'my default description'} <class 'dict'> None\n",
      "{'page': '/contact', 'updated_at': '2025-06-17T16:54:17.219593', 'time': '2025-06-17T16:54:17.219156Z', 'id': 901, 'description': 'my default description'} <class 'dict'> None\n",
      "{'page': '/contact', 'updated_at': '2025-06-17T16:54:20.696159', 'time': '2025-06-17T16:54:20.695718Z', 'id': 1001, 'description': 'my default description'} <class 'dict'> None\n",
      "{'page': '/pricing', 'updated_at': '2025-06-17T16:54:23.700644', 'time': '2025-06-17T16:54:23.699693Z', 'id': 1101, 'description': 'my default description'} <class 'dict'> None\n",
      "{'page': '/pricing', 'updated_at': '2025-06-17T16:54:27.007567', 'time': '2025-06-17T16:54:27.006960Z', 'id': 1201, 'description': 'my default description'} <class 'dict'> None\n",
      "{'page': '/about', 'updated_at': '2025-06-17T16:54:30.236358', 'time': '2025-06-17T16:54:30.235857Z', 'id': 1301, 'description': 'my default description'} <class 'dict'> None\n",
      "{'page': '/contact', 'updated_at': '2025-06-17T16:54:33.093489', 'time': '2025-06-17T16:54:33.093234Z', 'id': 1401, 'description': 'my default description'} <class 'dict'> None\n",
      "{'page': '/contact', 'updated_at': '2025-06-17T16:54:35.755022', 'time': '2025-06-17T16:54:35.754096Z', 'id': 1501, 'description': 'my default description'} <class 'dict'> None\n",
      "{'page': '/contact', 'updated_at': '2025-06-17T16:54:38.723737', 'time': '2025-06-17T16:54:38.723106Z', 'id': 1601, 'description': 'my default description'} <class 'dict'> None\n",
      "{'page': '/pricing', 'updated_at': '2025-06-17T16:54:41.597407', 'time': '2025-06-17T16:54:41.596849Z', 'id': 1701, 'description': 'my default description'} <class 'dict'> None\n",
      "{'page': '/pages', 'updated_at': '2025-06-17T16:54:44.113677', 'time': '2025-06-17T16:54:44.113281Z', 'id': 1801, 'description': 'my default description'} <class 'dict'> None\n",
      "{'page': '/contact', 'updated_at': '2025-06-17T16:54:46.751932', 'time': '2025-06-17T16:54:46.751420Z', 'id': 1901, 'description': 'my default description'} <class 'dict'> None\n",
      "{'page': '/contact', 'updated_at': '2025-06-17T16:54:50.027220', 'time': '2025-06-17T16:54:50.026837Z', 'id': 2001, 'description': 'my default description'} <class 'dict'> None\n",
      "{'page': '/pages', 'updated_at': '2025-06-17T16:54:52.610726', 'time': '2025-06-17T16:54:52.610459Z', 'id': 2101, 'description': 'my default description'} <class 'dict'> None\n",
      "{'page': '/contact', 'updated_at': '2025-06-17T16:54:55.448690', 'time': '2025-06-17T16:54:55.448295Z', 'id': 2201, 'description': 'my default description'} <class 'dict'> None\n",
      "{'page': '/pricing', 'updated_at': '2025-06-17T16:54:58.401695', 'time': '2025-06-17T16:54:58.401145Z', 'id': 2301, 'description': 'my default description'} <class 'dict'> None\n",
      "{'page': '/about', 'updated_at': '2025-06-17T16:55:01.357471', 'time': '2025-06-17T16:55:01.356577Z', 'id': 2401, 'description': 'my default description'} <class 'dict'> None\n",
      "{'page': '/pricing', 'updated_at': '2025-06-17T16:55:04.200435', 'time': '2025-06-17T16:55:04.200171Z', 'id': 2501, 'description': 'my default description'} <class 'dict'> None\n",
      "{'page': '/contact', 'updated_at': '2025-06-17T16:55:06.435804', 'time': '2025-06-17T16:55:06.435377Z', 'id': 2601, 'description': 'my default description'} <class 'dict'> None\n",
      "{'page': '/pages', 'updated_at': '2025-06-17T16:55:09.434557', 'time': '2025-06-17T16:55:09.433838Z', 'id': 2701, 'description': 'my default description'} <class 'dict'> None\n",
      "{'page': '/about', 'updated_at': '2025-06-17T16:55:11.774996', 'time': '2025-06-17T16:55:11.774227Z', 'id': 2801, 'description': 'my default description'} <class 'dict'> None\n",
      "{'page': '/contact', 'updated_at': '2025-06-17T16:55:14.270462', 'time': '2025-06-17T16:55:14.269808Z', 'id': 2901, 'description': 'my default description'} <class 'dict'> None\n",
      "{'page': '/pricing', 'updated_at': '2025-06-17T16:55:16.993922', 'time': '2025-06-17T16:55:16.993565Z', 'id': 3001, 'description': 'my default description'} <class 'dict'> None\n",
      "{'page': '/contact', 'updated_at': '2025-06-17T16:55:19.532806', 'time': '2025-06-17T16:55:19.532533Z', 'id': 3101, 'description': 'my default description'} <class 'dict'> None\n",
      "{'page': '/pages', 'updated_at': '2025-06-17T16:55:22.418695', 'time': '2025-06-17T16:55:22.418230Z', 'id': 3201, 'description': 'my default description'} <class 'dict'> None\n",
      "{'page': '/contact', 'updated_at': '2025-06-17T16:55:24.728817', 'time': '2025-06-17T16:55:24.728474Z', 'id': 3301, 'description': 'my default description'} <class 'dict'> None\n",
      "{'page': '/contact', 'updated_at': '2025-06-17T16:55:27.182449', 'time': '2025-06-17T16:55:27.182012Z', 'id': 3401, 'description': 'my default description'} <class 'dict'> None\n",
      "{'page': '/pricing', 'updated_at': '2025-06-17T16:55:30.028687', 'time': '2025-06-17T16:55:30.028402Z', 'id': 3501, 'description': 'my default description'} <class 'dict'> None\n",
      "{'page': '/pages', 'updated_at': '2025-06-17T16:55:32.176352', 'time': '2025-06-17T16:55:32.175918Z', 'id': 3601, 'description': 'my default description'} <class 'dict'> None\n",
      "{'page': '/about', 'updated_at': '2025-06-17T16:55:35.435330', 'time': '2025-06-17T16:55:35.435072Z', 'id': 3701, 'description': 'my default description'} <class 'dict'> None\n",
      "{'page': '/pages', 'updated_at': '2025-06-17T16:55:37.846702', 'time': '2025-06-17T16:55:37.846046Z', 'id': 3801, 'description': 'my default description'} <class 'dict'> None\n",
      "{'page': '/pages', 'updated_at': '2025-06-17T16:55:40.649588', 'time': '2025-06-17T16:55:40.649124Z', 'id': 3901, 'description': 'my default description'} <class 'dict'> None\n",
      "{'page': '/contact', 'updated_at': '2025-06-17T16:55:43.497464', 'time': '2025-06-17T16:55:43.497032Z', 'id': 4001, 'description': 'my default description'} <class 'dict'> None\n",
      "{'page': '/about', 'updated_at': '2025-06-17T16:55:46.096389', 'time': '2025-06-17T16:55:46.095900Z', 'id': 4101, 'description': 'my default description'} <class 'dict'> None\n",
      "{'page': '/pages', 'updated_at': '2025-06-17T16:55:48.616067', 'time': '2025-06-17T16:55:48.615433Z', 'id': 4201, 'description': 'my default description'} <class 'dict'> None\n",
      "{'page': '/contact', 'updated_at': '2025-06-17T16:55:51.011562', 'time': '2025-06-17T16:55:51.011099Z', 'id': 4301, 'description': 'my default description'} <class 'dict'> None\n",
      "{'page': '/pricing', 'updated_at': '2025-06-17T16:55:54.044028', 'time': '2025-06-17T16:55:54.043230Z', 'id': 4401, 'description': 'my default description'} <class 'dict'> None\n",
      "{'page': '/pricing', 'updated_at': '2025-06-17T16:55:56.783802', 'time': '2025-06-17T16:55:56.783446Z', 'id': 4501, 'description': 'my default description'} <class 'dict'> None\n",
      "{'page': '/about', 'updated_at': '2025-06-17T16:55:59.740298', 'time': '2025-06-17T16:55:59.739697Z', 'id': 4601, 'description': 'my default description'} <class 'dict'> None\n",
      "{'page': '/about', 'updated_at': '2025-06-17T16:56:03.075215', 'time': '2025-06-17T16:56:03.075010Z', 'id': 4701, 'description': 'my default description'} <class 'dict'> None\n",
      "{'page': '/about', 'updated_at': '2025-06-17T16:56:05.517245', 'time': '2025-06-17T16:56:05.516487Z', 'id': 4801, 'description': 'my default description'} <class 'dict'> None\n",
      "{'page': '/pages', 'updated_at': '2025-06-17T16:56:08.819411', 'time': '2025-06-17T16:56:08.819155Z', 'id': 4901, 'description': 'my default description'} <class 'dict'> None\n",
      "{'page': '/contact', 'updated_at': '2025-06-17T16:56:11.063364', 'time': '2025-06-17T16:56:11.062865Z', 'id': 5001, 'description': 'my default description'} <class 'dict'> None\n",
      "{'page': '/pricing', 'updated_at': '2025-06-17T16:56:13.316593', 'time': '2025-06-17T16:56:13.315796Z', 'id': 5101, 'description': 'my default description'} <class 'dict'> None\n",
      "{'page': '/contact', 'updated_at': '2025-06-17T16:56:16.242714', 'time': '2025-06-17T16:56:16.242285Z', 'id': 5201, 'description': 'my default description'} <class 'dict'> None\n",
      "{'page': '/pages', 'updated_at': '2025-06-17T16:56:18.497806', 'time': '2025-06-17T16:56:18.497513Z', 'id': 5301, 'description': 'my default description'} <class 'dict'> None\n",
      "{'page': '/pages', 'updated_at': '2025-06-17T16:56:21.566334', 'time': '2025-06-17T16:56:21.565773Z', 'id': 5401, 'description': 'my default description'} <class 'dict'> None\n",
      "{'page': '/contact', 'updated_at': '2025-06-17T16:56:23.804849', 'time': '2025-06-17T16:56:23.804372Z', 'id': 5501, 'description': 'my default description'} <class 'dict'> None\n",
      "{'page': '/pages', 'updated_at': '2025-06-17T16:56:26.021640', 'time': '2025-06-17T16:56:26.021178Z', 'id': 5601, 'description': 'my default description'} <class 'dict'> None\n",
      "{'page': '/contact', 'updated_at': '2025-06-17T16:56:29.049055', 'time': '2025-06-17T16:56:29.048481Z', 'id': 5701, 'description': 'my default description'} <class 'dict'> None\n",
      "{'page': '/pricing', 'updated_at': '2025-06-17T16:56:31.413469', 'time': '2025-06-17T16:56:31.413002Z', 'id': 5801, 'description': 'my default description'} <class 'dict'> None\n",
      "{'page': '/pricing', 'updated_at': '2025-06-17T16:56:33.842704', 'time': '2025-06-17T16:56:33.841918Z', 'id': 5901, 'description': 'my default description'} <class 'dict'> None\n",
      "{'page': '/contact', 'updated_at': '2025-06-17T16:56:36.724656', 'time': '2025-06-17T16:56:36.724019Z', 'id': 6001, 'description': 'my default description'} <class 'dict'> None\n",
      "{'page': '/contact', 'updated_at': '2025-06-17T16:56:39.123204', 'time': '2025-06-17T16:56:39.122853Z', 'id': 6101, 'description': 'my default description'} <class 'dict'> None\n",
      "{'page': '/pages', 'updated_at': '2025-06-17T16:56:41.875367', 'time': '2025-06-17T16:56:41.874742Z', 'id': 6201, 'description': 'my default description'} <class 'dict'> None\n",
      "{'page': '/pricing', 'updated_at': '2025-06-17T16:56:44.514507', 'time': '2025-06-17T16:56:44.514250Z', 'id': 6301, 'description': 'my default description'} <class 'dict'> None\n",
      "{'page': '/pages', 'updated_at': '2025-06-17T16:56:47.081065', 'time': '2025-06-17T16:56:47.080250Z', 'id': 6401, 'description': 'my default description'} <class 'dict'> None\n",
      "{'page': '/pages', 'updated_at': '2025-06-17T16:56:50.285021', 'time': '2025-06-17T16:56:50.284580Z', 'id': 6501, 'description': 'my default description'} <class 'dict'> None\n",
      "{'page': '/about', 'updated_at': '2025-06-17T16:56:53.003729', 'time': '2025-06-17T16:56:53.003015Z', 'id': 6601, 'description': 'my default description'} <class 'dict'> None\n",
      "{'page': '/pages', 'updated_at': '2025-06-17T16:56:55.933755', 'time': '2025-06-17T16:56:55.933266Z', 'id': 6701, 'description': 'my default description'} <class 'dict'> None\n",
      "{'page': '/pricing', 'updated_at': '2025-06-17T16:56:58.873297', 'time': '2025-06-17T16:56:58.872894Z', 'id': 6801, 'description': 'my default description'} <class 'dict'> None\n",
      "{'page': '/about', 'updated_at': '2025-06-17T16:57:02.067308', 'time': '2025-06-17T16:57:02.066752Z', 'id': 6901, 'description': 'my default description'} <class 'dict'> None\n",
      "{'page': '/pricing', 'updated_at': '2025-06-17T16:57:04.376446', 'time': '2025-06-17T16:57:04.375980Z', 'id': 7001, 'description': 'my default description'} <class 'dict'> None\n",
      "{'page': '/pricing', 'updated_at': '2025-06-17T16:57:07.119622', 'time': '2025-06-17T16:57:07.119117Z', 'id': 7101, 'description': 'my default description'} <class 'dict'> None\n",
      "{'page': '/about', 'updated_at': '2025-06-17T16:57:10.168998', 'time': '2025-06-17T16:57:10.168420Z', 'id': 7201, 'description': 'my default description'} <class 'dict'> None\n",
      "{'page': '/about', 'updated_at': '2025-06-17T16:57:13.093373', 'time': '2025-06-17T16:57:13.092621Z', 'id': 7301, 'description': 'my default description'} <class 'dict'> None\n",
      "{'page': '/about', 'updated_at': '2025-06-17T16:57:15.855532', 'time': '2025-06-17T16:57:15.855021Z', 'id': 7401, 'description': 'my default description'} <class 'dict'> None\n",
      "{'page': '/contact', 'updated_at': '2025-06-17T16:57:18.257612', 'time': '2025-06-17T16:57:18.256871Z', 'id': 7501, 'description': 'my default description'} <class 'dict'> None\n",
      "{'page': '/pricing', 'updated_at': '2025-06-17T16:57:21.002836', 'time': '2025-06-17T16:57:21.002486Z', 'id': 7601, 'description': 'my default description'} <class 'dict'> None\n",
      "{'page': '/contact', 'updated_at': '2025-06-17T16:57:23.358411', 'time': '2025-06-17T16:57:23.357570Z', 'id': 7701, 'description': 'my default description'} <class 'dict'> None\n",
      "{'page': '/contact', 'updated_at': '2025-06-17T16:57:26.259806', 'time': '2025-06-17T16:57:26.259301Z', 'id': 7801, 'description': 'my default description'} <class 'dict'> None\n",
      "{'page': '/about', 'updated_at': '2025-06-17T16:57:28.875906', 'time': '2025-06-17T16:57:28.875514Z', 'id': 7901, 'description': 'my default description'} <class 'dict'> None\n",
      "{'page': '/pages', 'updated_at': '2025-06-17T16:57:31.714708', 'time': '2025-06-17T16:57:31.714111Z', 'id': 8001, 'description': 'my default description'} <class 'dict'> None\n",
      "{'page': '/contact', 'updated_at': '2025-06-17T16:57:34.344113', 'time': '2025-06-17T16:57:34.343595Z', 'id': 8101, 'description': 'my default description'} <class 'dict'> None\n",
      "{'page': '/about', 'updated_at': '2025-06-17T16:57:37.659015', 'time': '2025-06-17T16:57:37.658490Z', 'id': 8201, 'description': 'my default description'} <class 'dict'> None\n",
      "{'page': '/contact', 'updated_at': '2025-06-17T16:57:40.166124', 'time': '2025-06-17T16:57:40.165902Z', 'id': 8301, 'description': 'my default description'} <class 'dict'> None\n",
      "{'page': '/contact', 'updated_at': '2025-06-17T16:57:42.929186', 'time': '2025-06-17T16:57:42.928475Z', 'id': 8401, 'description': 'my default description'} <class 'dict'> None\n",
      "{'page': '/about', 'updated_at': '2025-06-17T16:57:46.426502', 'time': '2025-06-17T16:57:46.426070Z', 'id': 8501, 'description': 'my default description'} <class 'dict'> None\n",
      "{'page': '/pricing', 'updated_at': '2025-06-17T16:57:48.824321', 'time': '2025-06-17T16:57:48.823689Z', 'id': 8601, 'description': 'my default description'} <class 'dict'> None\n",
      "{'page': '/pricing', 'updated_at': '2025-06-17T16:57:51.112188', 'time': '2025-06-17T16:57:51.111732Z', 'id': 8701, 'description': 'my default description'} <class 'dict'> None\n",
      "{'page': '/about', 'updated_at': '2025-06-17T16:57:54.295605', 'time': '2025-06-17T16:57:54.295213Z', 'id': 8801, 'description': 'my default description'} <class 'dict'> None\n",
      "{'page': '/pages', 'updated_at': '2025-06-17T16:57:56.991667', 'time': '2025-06-17T16:57:56.990641Z', 'id': 8901, 'description': 'my default description'} <class 'dict'> None\n",
      "{'page': '/about', 'updated_at': '2025-06-17T16:57:59.486019', 'time': '2025-06-17T16:57:59.485498Z', 'id': 9001, 'description': 'my default description'} <class 'dict'> None\n",
      "{'page': '/pricing', 'updated_at': '2025-06-17T16:58:02.225510', 'time': '2025-06-17T16:58:02.225148Z', 'id': 9101, 'description': 'my default description'} <class 'dict'> None\n",
      "{'page': '/pricing', 'updated_at': '2025-06-17T16:58:04.787524', 'time': '2025-06-17T16:58:04.787226Z', 'id': 9201, 'description': 'my default description'} <class 'dict'> None\n",
      "{'page': '/contact', 'updated_at': '2025-06-17T16:58:07.812023', 'time': '2025-06-17T16:58:07.811532Z', 'id': 9301, 'description': 'my default description'} <class 'dict'> None\n",
      "{'page': '/contact', 'updated_at': '2025-06-17T16:58:10.697136', 'time': '2025-06-17T16:58:10.696378Z', 'id': 9401, 'description': 'my default description'} <class 'dict'> None\n",
      "{'page': '/contact', 'updated_at': '2025-06-17T16:58:13.508826', 'time': '2025-06-17T16:58:13.508498Z', 'id': 9501, 'description': 'my default description'} <class 'dict'> None\n",
      "{'page': '/contact', 'updated_at': '2025-06-17T16:58:15.921090', 'time': '2025-06-17T16:58:15.920041Z', 'id': 9601, 'description': 'my default description'} <class 'dict'> None\n",
      "{'page': '/pages', 'updated_at': '2025-06-17T16:58:19.188731', 'time': '2025-06-17T16:58:19.187659Z', 'id': 9701, 'description': 'my default description'} <class 'dict'> None\n",
      "{'page': '/about', 'updated_at': '2025-06-17T16:58:22.037405', 'time': '2025-06-17T16:58:22.036596Z', 'id': 9801, 'description': 'my default description'} <class 'dict'> None\n",
      "{'page': '/about', 'updated_at': '2025-06-17T16:58:25.259648', 'time': '2025-06-17T16:58:25.259210Z', 'id': 9901, 'description': 'my default description'} <class 'dict'> None\n"
     ]
    }
   ],
   "source": [
    "import random\n",
    "\n",
    "path = \"/api/events/\"\n",
    "create_endpoint = f\"{base_url}{path}\"\n",
    "\n",
    "event_count = 10_000\n",
    "pages = [\"/about\", \"/contact\",\"/pages\",\"/pricing\"]\n",
    "\n",
    "for i in range(event_count):\n",
    "    page = random.choice(pages)\n",
    "    response = requests.post(create_endpoint, json={\"page\":page})\n",
    "    if response.ok:\n",
    "        if i % 100==0:\n",
    "            data = response.json()\n",
    "            print(data, type(data), data.get(\"items\"))\n",
    "    else:\n",
    "        print(response.text)"
   ]
  },
  {
   "cell_type": "markdown",
   "id": "9f58a162",
   "metadata": {},
   "source": [
    "## SQLModel Queries\n",
    "\n",
    "Outside Fastapi\n"
   ]
  },
  {
   "cell_type": "code",
   "execution_count": 4,
   "id": "ab59530e",
   "metadata": {},
   "outputs": [],
   "source": [
    "import sys\n",
    "from pathlib import Path"
   ]
  },
  {
   "cell_type": "code",
   "execution_count": 5,
   "id": "90f9a327",
   "metadata": {},
   "outputs": [],
   "source": [
    "src_path = Path(\"../src/\").resolve()\n",
    "# print(src_path)\n",
    "sys.path.append(str(src_path))"
   ]
  },
  {
   "cell_type": "code",
   "execution_count": 7,
   "id": "b75e586b",
   "metadata": {},
   "outputs": [],
   "source": [
    "from sqlmodel import Session, select\n",
    "from pprint  import pprint\n",
    "from api.db.session import engine\n",
    "from api.events.models import EventModel"
   ]
  },
  {
   "cell_type": "code",
   "execution_count": 8,
   "id": "c57ac8a0",
   "metadata": {},
   "outputs": [
    {
     "name": "stdout",
     "output_type": "stream",
     "text": [
      "SELECT eventmodel.id, eventmodel.time, eventmodel.page, eventmodel.description, eventmodel.updated_at \n",
      "FROM eventmodel ORDER BY eventmodel.updated_at DESC\n",
      " LIMIT 10\n",
      "\n",
      "SELECT eventmodel.id, eventmodel.time, eventmodel.page, eventmodel.description, eventmodel.updated_at \n",
      "FROM eventmodel ORDER BY eventmodel.updated_at DESC\n",
      " LIMIT :param_1\n",
      "[EventModel(page='/pages', updated_at=datetime.datetime(2025, 6, 17, 16, 58, 28, 111490), id=10000, time=datetime.datetime(2025, 6, 17, 16, 58, 28, 111220, tzinfo=datetime.timezone.utc), description='my default description'),\n",
      " EventModel(page='/pages', updated_at=datetime.datetime(2025, 6, 17, 16, 58, 28, 91531), id=9999, time=datetime.datetime(2025, 6, 17, 16, 58, 28, 91185, tzinfo=datetime.timezone.utc), description='my default description'),\n",
      " EventModel(page='/pricing', updated_at=datetime.datetime(2025, 6, 17, 16, 58, 28, 70763), id=9998, time=datetime.datetime(2025, 6, 17, 16, 58, 28, 70158, tzinfo=datetime.timezone.utc), description='my default description'),\n",
      " EventModel(page='/pricing', updated_at=datetime.datetime(2025, 6, 17, 16, 58, 28, 54065), id=9997, time=datetime.datetime(2025, 6, 17, 16, 58, 28, 53674, tzinfo=datetime.timezone.utc), description='my default description'),\n",
      " EventModel(page='/about', updated_at=datetime.datetime(2025, 6, 17, 16, 58, 28, 36917), id=9996, time=datetime.datetime(2025, 6, 17, 16, 58, 28, 36606, tzinfo=datetime.timezone.utc), description='my default description'),\n",
      " EventModel(page='/about', updated_at=datetime.datetime(2025, 6, 17, 16, 58, 28, 20030), id=9995, time=datetime.datetime(2025, 6, 17, 16, 58, 28, 19657, tzinfo=datetime.timezone.utc), description='my default description'),\n",
      " EventModel(page='/about', updated_at=datetime.datetime(2025, 6, 17, 16, 58, 28, 1826), id=9994, time=datetime.datetime(2025, 6, 17, 16, 58, 28, 1540, tzinfo=datetime.timezone.utc), description='my default description'),\n",
      " EventModel(page='/contact', updated_at=datetime.datetime(2025, 6, 17, 16, 58, 27, 982509), id=9993, time=datetime.datetime(2025, 6, 17, 16, 58, 27, 982205, tzinfo=datetime.timezone.utc), description='my default description'),\n",
      " EventModel(page='/contact', updated_at=datetime.datetime(2025, 6, 17, 16, 58, 27, 963971), id=9992, time=datetime.datetime(2025, 6, 17, 16, 58, 27, 963618, tzinfo=datetime.timezone.utc), description='my default description'),\n",
      " EventModel(page='/about', updated_at=datetime.datetime(2025, 6, 17, 16, 58, 27, 947451), id=9991, time=datetime.datetime(2025, 6, 17, 16, 58, 27, 947112, tzinfo=datetime.timezone.utc), description='my default description')]\n"
     ]
    }
   ],
   "source": [
    "with Session(engine) as session:\n",
    "    query = select(EventModel).order_by(EventModel.updated_at.desc()).limit(10)\n",
    "    compiled_query = query.compile(compile_kwargs={\"literal_binds\":True})\n",
    "    print(compiled_query, end=\"\\n\\n\")\n",
    "    print(str(query))\n",
    "    results = session.exec(query).all()\n",
    "    pprint(results)"
   ]
  },
  {
   "cell_type": "markdown",
   "id": "ca1adf10",
   "metadata": {},
   "source": [
    "## Aggregate Data With Time Buckets\n"
   ]
  },
  {
   "cell_type": "code",
   "execution_count": 22,
   "id": "f07105b0",
   "metadata": {},
   "outputs": [
    {
     "name": "stdout",
     "output_type": "stream",
     "text": [
      "[(datetime.datetime(2025, 6, 17, 16, 53, tzinfo=datetime.timezone.utc), '/about', 43),\n",
      " (datetime.datetime(2025, 6, 17, 16, 53, tzinfo=datetime.timezone.utc), '/contact', 41),\n",
      " (datetime.datetime(2025, 6, 17, 16, 53, tzinfo=datetime.timezone.utc), '/pages', 43),\n",
      " (datetime.datetime(2025, 6, 17, 16, 54, tzinfo=datetime.timezone.utc), '/about', 562),\n",
      " (datetime.datetime(2025, 6, 17, 16, 54, tzinfo=datetime.timezone.utc), '/contact', 577),\n",
      " (datetime.datetime(2025, 6, 17, 16, 54, tzinfo=datetime.timezone.utc), '/pages', 518),\n",
      " (datetime.datetime(2025, 6, 17, 16, 55, tzinfo=datetime.timezone.utc), '/about', 547),\n",
      " (datetime.datetime(2025, 6, 17, 16, 55, tzinfo=datetime.timezone.utc), '/contact', 563),\n",
      " (datetime.datetime(2025, 6, 17, 16, 55, tzinfo=datetime.timezone.utc), '/pages', 582),\n",
      " (datetime.datetime(2025, 6, 17, 16, 56, tzinfo=datetime.timezone.utc), '/about', 536),\n",
      " (datetime.datetime(2025, 6, 17, 16, 56, tzinfo=datetime.timezone.utc), '/contact', 530),\n",
      " (datetime.datetime(2025, 6, 17, 16, 56, tzinfo=datetime.timezone.utc), '/pages', 589),\n",
      " (datetime.datetime(2025, 6, 17, 16, 57, tzinfo=datetime.timezone.utc), '/about', 543),\n",
      " (datetime.datetime(2025, 6, 17, 16, 57, tzinfo=datetime.timezone.utc), '/contact', 575),\n",
      " (datetime.datetime(2025, 6, 17, 16, 57, tzinfo=datetime.timezone.utc), '/pages', 526),\n",
      " (datetime.datetime(2025, 6, 17, 16, 58, tzinfo=datetime.timezone.utc), '/about', 233),\n",
      " (datetime.datetime(2025, 6, 17, 16, 58, tzinfo=datetime.timezone.utc), '/contact', 255),\n",
      " (datetime.datetime(2025, 6, 17, 16, 58, tzinfo=datetime.timezone.utc), '/pages', 258)]\n"
     ]
    }
   ],
   "source": [
    "from sqlalchemy import func\n",
    "from timescaledb.hyperfunctions import time_bucket\n",
    "# from timescaledb.hyperfunctions import  time_bucket_gapfill \n",
    "from datetime import datetime, timedelta, timezone\n",
    "\n",
    "with Session(engine) as session:\n",
    "    # bucket = time_bucket(\"1 day\", EventModel.time)  # bucket width and time field in the db table\n",
    "    # bucket = time_bucket(\"1 hour\", EventModel.time)  \n",
    "    bucket = time_bucket(\"1 minute\", EventModel.time)  \n",
    "    # pages = [\"/about\", \"/contact\",\"/pages\",\"/pricing\"]\n",
    "    pages = [\"/about\", \"/contact\",\"/pages\"]\n",
    "    start = datetime.now(timezone.utc) - timedelta(hours=1)\n",
    "    query = (\n",
    "        select(bucket, EventModel.page, func.count().label(\"event_count\"))\n",
    "        .where(EventModel.page.in_(pages))\n",
    "        .group_by(bucket, EventModel.page)\n",
    "        .order_by(bucket, EventModel.page)\n",
    "        \n",
    "        )\n",
    "    # compiled_query = query.compile(compile_kwargs={\"literal_binds\":True})\n",
    "    # print(compiled_query)    \n",
    "    results = session.exec(query).fetchall()\n",
    "    pprint(results)"
   ]
  },
  {
   "cell_type": "code",
   "execution_count": null,
   "id": "b01d4cd9",
   "metadata": {},
   "outputs": [],
   "source": []
  }
 ],
 "metadata": {
  "kernelspec": {
   "display_name": "fastapi-timescaledb",
   "language": "python",
   "name": "python3"
  },
  "language_info": {
   "codemirror_mode": {
    "name": "ipython",
    "version": 3
   },
   "file_extension": ".py",
   "mimetype": "text/x-python",
   "name": "python",
   "nbconvert_exporter": "python",
   "pygments_lexer": "ipython3",
   "version": "3.12.9"
  }
 },
 "nbformat": 4,
 "nbformat_minor": 5
}
