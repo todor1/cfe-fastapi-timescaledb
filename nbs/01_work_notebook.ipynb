{
 "cells": [
  {
   "cell_type": "markdown",
   "id": "401b70a8",
   "metadata": {},
   "source": [
    "## Imports"
   ]
  },
  {
   "cell_type": "code",
   "execution_count": 9,
   "id": "f31aae73",
   "metadata": {},
   "outputs": [],
   "source": [
    "import sys\n",
    "import json\n",
    "from pprint import pprint\n",
    "from pathlib import Path\n",
    "import requests\n",
    "src_path = Path(\"../src/\").resolve()\n",
    "sys.path.append(str(src_path))"
   ]
  },
  {
   "cell_type": "code",
   "execution_count": null,
   "id": "e4af8214",
   "metadata": {},
   "outputs": [],
   "source": [
    "from sqlmodel import Session, select\n",
    "from api.db.session import engine\n",
    "from api.events.models import EventModel\n",
    "from sqlalchemy import func\n",
    "from timescaledb.hyperfunctions import time_bucket\n",
    "from datetime import datetime, timedelta, timezone\n",
    "# from timescaledb.hyperfunctions import  time_bucket_gapfill\n",
    "\n",
    "\n",
    "\n",
    "# base_url = \"http://localhost:8000\" # local\n",
    "\n",
    "\n",
    "base_url = \"http://localhost:8002\"  # docker"
   ]
  },
  {
   "cell_type": "markdown",
   "id": "2c85756c",
   "metadata": {},
   "source": [
    "### Check API Health\n"
   ]
  },
  {
   "cell_type": "code",
   "execution_count": 11,
   "id": "a693c5e8",
   "metadata": {},
   "outputs": [
    {
     "name": "stdout",
     "output_type": "stream",
     "text": [
      "http://localhost:8002/healthz\n",
      "Health: True\n"
     ]
    }
   ],
   "source": [
    "path = \"/healthz\"\n",
    "endpoint = f\"{base_url}{path}\"\n",
    "print(endpoint)\n",
    "response = requests.get(endpoint)\n",
    "print(f\"Health: {response.ok}\")"
   ]
  },
  {
   "cell_type": "markdown",
   "id": "3708e7e9",
   "metadata": {},
   "source": [
    "## Get Data\n"
   ]
  },
  {
   "cell_type": "markdown",
   "id": "c8f38cfa",
   "metadata": {},
   "source": [
    "### All Events\n"
   ]
  },
  {
   "cell_type": "code",
   "execution_count": null,
   "id": "f51a34ab",
   "metadata": {},
   "outputs": [],
   "source": [
    "path = \"/api/events\"\n",
    "endpoint = f\"{base_url}{path}\"\n",
    "print(endpoint)\n",
    "response = requests.get(endpoint)\n",
    "print(f\"status code {response.status_code}\")\n",
    "if response.ok:\n",
    "    data = response.json()\n",
    "    pprint(data)\n",
    "    # for row in data.get(\"results\"):\n",
    "    #     print(row)"
   ]
  },
  {
   "cell_type": "markdown",
   "id": "f7b16fcf",
   "metadata": {},
   "source": [
    "### Simple Data Types: Single Event\n"
   ]
  },
  {
   "cell_type": "code",
   "execution_count": null,
   "id": "2f01b44e",
   "metadata": {},
   "outputs": [],
   "source": [
    "# path = \"/api/events/1\"\n",
    "path = \"/api/events/5\"\n",
    "endpoint = f\"{base_url}{path}\"\n",
    "\n",
    "\n",
    "print(endpoint)\n",
    "r = requests.get(endpoint)\n",
    "print(r.ok, r.status_code)\n",
    "if r.ok:\n",
    "    data = r.json()\n",
    "    print(data)"
   ]
  },
  {
   "cell_type": "markdown",
   "id": "33266a8b",
   "metadata": {},
   "source": [
    "### List Data Types: Multiple Events\n"
   ]
  },
  {
   "cell_type": "code",
   "execution_count": null,
   "id": "39511c65",
   "metadata": {},
   "outputs": [],
   "source": [
    "path = \"/api/events\"\n",
    "endpoint = f\"{base_url}{path}\"\n",
    "response = requests.get(endpoint)\n",
    "print(endpoint, response.status_code)\n",
    "if response.ok:\n",
    "    data = response.json()\n",
    "    print(data)"
   ]
  },
  {
   "cell_type": "markdown",
   "id": "d74512fd",
   "metadata": {},
   "source": [
    "### Simple Data Types: Post Event\n",
    "\n",
    "Not a valid json data\n"
   ]
  },
  {
   "cell_type": "code",
   "execution_count": null,
   "id": "887d3103",
   "metadata": {},
   "outputs": [],
   "source": [
    "path = \"/api/events\"\n",
    "endpoint = f\"{base_url}{path}\"\n",
    "# print(endpoint)\n",
    "# payload = {\"page\": \"/test+\"}\n",
    "payload = {\"id\": 27}\n",
    "response = requests.post(endpoint, data=payload)\n",
    "print(response.headers)\n",
    "print(response.text)\n",
    "if response.ok:\n",
    "    data = response.json()\n",
    "    print(data)"
   ]
  },
  {
   "cell_type": "markdown",
   "id": "55ba7983",
   "metadata": {},
   "source": [
    "Valid json data\n"
   ]
  },
  {
   "cell_type": "code",
   "execution_count": null,
   "id": "714ef6ba",
   "metadata": {},
   "outputs": [],
   "source": [
    "# import json\n",
    "\n",
    "payload = {\"page\": \"/test+\"}\n",
    "headers = {\"Content-Type\": \"application/json\"}\n",
    "\n",
    "response = requests.post(endpoint, data=json.dumps(payload), headers=headers)\n",
    "\n",
    "# Print the response\n",
    "print(response.status_code)\n",
    "# print(response.headers) -> still receiving 'content-type': 'application/json', even if the headers changed to xml type\n",
    "print(response.headers)\n",
    "print(response.text)"
   ]
  },
  {
   "cell_type": "code",
   "execution_count": null,
   "id": "47bfdfa4",
   "metadata": {},
   "outputs": [],
   "source": [
    "# import requests\n",
    "# import xml.etree.ElementTree as ET\n",
    "\n",
    "# # API endpoint\n",
    "# url = \"http://localhost:8000/api/events\"\n",
    "\n",
    "# # Create the XML payload\n",
    "# root = ET.Element(\"event\")\n",
    "# page = ET.SubElement(root, \"page\")\n",
    "# page.text = \"/test+\"\n",
    "\n",
    "# # Convert the XML to a string\n",
    "# xml_data = ET.tostring(root, encoding=\"utf8\").decode(\"utf8\")\n",
    "\n",
    "# # Set the headers\n",
    "# headers = {\"Content-Type\": \"application/xml\"}\n",
    "\n",
    "# # Send the POST request\n",
    "# response = requests.post(url, data=xml_data, headers=headers)\n",
    "\n",
    "# # Print the response\n",
    "# print(response.status_code)\n",
    "# print(response.headers)\n",
    "# print(response.text)"
   ]
  },
  {
   "cell_type": "markdown",
   "id": "1a268d62",
   "metadata": {},
   "source": [
    "## Send Data to the API\n"
   ]
  },
  {
   "cell_type": "markdown",
   "id": "49fae642",
   "metadata": {},
   "source": [
    "### Create Event Data\n"
   ]
  },
  {
   "cell_type": "code",
   "execution_count": null,
   "id": "e3977b7f",
   "metadata": {},
   "outputs": [],
   "source": [
    "path = \"/api/events/\"\n",
    "create_endpoint = f\"{base_url}{path}\"\n",
    "\n",
    "# response = requests.post(create_endpoint, json={\"page\": \"/my_new_webpage\"})\n",
    "# response = requests.post(create_endpoint, json={\"page\": \"/my_second_page\"})\n",
    "response = requests.post(create_endpoint, json={\"page\": \"/my_third_page\"})\n",
    "\n",
    "# print(response.status_code)\n",
    "# print(response.headers)\n",
    "# print(response.text)\n",
    "if response.ok:\n",
    "    data = response.json()\n",
    "    print(data, type(data))\n",
    "else:\n",
    "    print(response.text)"
   ]
  },
  {
   "cell_type": "markdown",
   "id": "ba524185",
   "metadata": {},
   "source": [
    "### Update Event Data\n"
   ]
  },
  {
   "cell_type": "code",
   "execution_count": null,
   "id": "91df1c4c",
   "metadata": {},
   "outputs": [],
   "source": [
    "detail_path = \"/api/events/3\"\n",
    "detail_endpoint = f\"{base_url}{detail_path}\"\n",
    "r = requests.put(detail_endpoint, json={\n",
    "                 \"description\": \"inline event test\", \"id\": 555})\n",
    "print(r.ok, r.status_code)\n",
    "# print(r.headers)\n",
    "if r.ok:\n",
    "    data = r.json()\n",
    "    print(type(data), data)\n",
    "else:\n",
    "    print(response.text)"
   ]
  },
  {
   "cell_type": "markdown",
   "id": "5bf7d636",
   "metadata": {},
   "source": [
    "## Delete Event Data\n"
   ]
  },
  {
   "cell_type": "code",
   "execution_count": null,
   "id": "e794c0b2",
   "metadata": {},
   "outputs": [],
   "source": [
    "detail_path = \"/api/events/6\"\n",
    "detail_endpoint = f\"{base_url}{detail_path}\"\n",
    "r = requests.delete(detail_endpoint)\n",
    "print(r.ok, r.status_code)\n",
    "if r.ok:\n",
    "    data = r.json()\n",
    "    print(type(data), data)\n",
    "else:\n",
    "    print(response.text)\n",
    "    print(r.headers)"
   ]
  },
  {
   "cell_type": "markdown",
   "id": "7fa8dde2",
   "metadata": {},
   "source": [
    "## Send multiple datasets to the API\n"
   ]
  },
  {
   "cell_type": "code",
   "execution_count": null,
   "id": "c8b56e55",
   "metadata": {},
   "outputs": [],
   "source": [
    "import random\n",
    "\n",
    "path = \"/api/events/\"\n",
    "create_endpoint = f\"{base_url}{path}\"\n",
    "\n",
    "event_count = 10_000\n",
    "pages = [\"/about\", \"/contact\", \"/pages\", \"/pricing\"]\n",
    "\n",
    "for i in range(event_count):\n",
    "    page = random.choice(pages)\n",
    "    response = requests.post(create_endpoint, json={\"page\": page})\n",
    "    if response.ok:\n",
    "        if i % 500 == 0:\n",
    "            data = response.json()\n",
    "            print(data, type(data), data.get(\"items\"))\n",
    "    else:\n",
    "        print(response.text)"
   ]
  },
  {
   "cell_type": "markdown",
   "id": "9f58a162",
   "metadata": {},
   "source": [
    "## SQLModel Queries\n",
    "\n",
    "Outside Fastapi\n"
   ]
  },
  {
   "cell_type": "code",
   "execution_count": null,
   "id": "ab59530e",
   "metadata": {},
   "outputs": [],
   "source": [
    "# import sys\n",
    "# from pathlib import Path\n",
    "\n",
    "# src_path = Path(\"../src/\").resolve()\n",
    "# sys.path.append(str(src_path))\n",
    "\n",
    "# from sqlmodel import Session, select\n",
    "# from pprint  import pprint\n",
    "# from api.db.session import engine\n",
    "# from api.events.models import EventModel"
   ]
  },
  {
   "cell_type": "code",
   "execution_count": null,
   "id": "c57ac8a0",
   "metadata": {},
   "outputs": [],
   "source": [
    "with Session(engine) as session:\n",
    "    query = select(EventModel).order_by(EventModel.updated_at.desc()).limit(10)\n",
    "    compiled_query = query.compile(compile_kwargs={\"literal_binds\": True})\n",
    "    print(compiled_query, end=\"\\n\\n\")\n",
    "    print(str(query))\n",
    "    results = session.exec(query).all()\n",
    "    pprint(results)"
   ]
  },
  {
   "cell_type": "markdown",
   "id": "ca1adf10",
   "metadata": {},
   "source": [
    "## Aggregate Data With Time Buckets\n"
   ]
  },
  {
   "cell_type": "code",
   "execution_count": null,
   "id": "f07105b0",
   "metadata": {},
   "outputs": [],
   "source": [
    "from sqlalchemy import func\n",
    "from timescaledb.hyperfunctions import time_bucket\n",
    "# from timescaledb.hyperfunctions import  time_bucket_gapfill\n",
    "from datetime import datetime, timedelta, timezone\n",
    "\n",
    "with Session(engine) as session:\n",
    "    # bucket width and time field in the db table\n",
    "    bucket = time_bucket(\"1 day\", EventModel.time)\n",
    "    # bucket = time_bucket(\"1 hour\", EventModel.time)\n",
    "    # bucket = time_bucket(\"1 minute\", EventModel.time)\n",
    "    # pages = [\"/about\", \"/contact\",\"/pages\",\"/pricing\"]\n",
    "    pages = [\"/about\", \"/contact\", \"/pages\"]\n",
    "    start = datetime.now(timezone.utc) - timedelta(hours=1)\n",
    "    finish = datetime.now(timezone.utc) + timedelta(hours=1)\n",
    "    query = (\n",
    "        select(bucket, EventModel.page, func.count().label(\"event_count\"))\n",
    "        .where(\n",
    "            EventModel.time > start,\n",
    "            EventModel.time <= finish,\n",
    "            EventModel.page.in_(pages)\n",
    "        )\n",
    "        .group_by(bucket, EventModel.page)\n",
    "        .order_by(bucket, EventModel.page)\n",
    "\n",
    "    )\n",
    "    # compiled_query = query.compile(compile_kwargs={\"literal_binds\":True})\n",
    "    # print(compiled_query)\n",
    "    results = session.exec(query).fetchall()\n",
    "    pprint(results)"
   ]
  },
  {
   "cell_type": "code",
   "execution_count": null,
   "id": "bffdbc57",
   "metadata": {},
   "outputs": [],
   "source": []
  },
  {
   "cell_type": "markdown",
   "id": "06db6bab",
   "metadata": {},
   "source": [
    "## Get Data after Change\n"
   ]
  },
  {
   "cell_type": "markdown",
   "id": "5cb772b3",
   "metadata": {},
   "source": [
    "### All Events \n",
    "Method changed: timebuckets and pages functionalities added\n"
   ]
  },
  {
   "cell_type": "code",
   "execution_count": null,
   "id": "63749c8f",
   "metadata": {},
   "outputs": [
    {
     "name": "stdout",
     "output_type": "stream",
     "text": [
      "http://localhost:8002/api/events\n",
      "status code 200\n",
      "[{'bucket': '2025-06-17T00:00:00Z', 'count': 2464, 'page': '/about'},\n",
      " {'bucket': '2025-06-17T00:00:00Z', 'count': 2541, 'page': '/contact'},\n",
      " {'bucket': '2025-06-17T00:00:00Z', 'count': 2479, 'page': '/pricing'},\n",
      " {'bucket': '2025-06-18T00:00:00Z', 'count': 2557, 'page': '/about'},\n",
      " {'bucket': '2025-06-18T00:00:00Z', 'count': 2435, 'page': '/contact'},\n",
      " {'bucket': '2025-06-18T00:00:00Z', 'count': 2520, 'page': '/pricing'}]\n"
     ]
    }
   ],
   "source": [
    "path = \"/api/events\"\n",
    "endpoint = f\"{base_url}{path}\"\n",
    "print(endpoint)\n",
    "# myparams = None\n",
    "# myparams = {\"duration\": \"30 minutes\"}\n",
    "# myparams = {\"duration\": \"5 minutes\", \"pages\": [\"/about\", \"/contact\"]}\n",
    "myparams = {\"pages\": [\"/about\", \"/contact\", \"/pricing\", \"/nonexistent\"]}\n",
    "response = requests.get(endpoint, params=myparams)\n",
    "print(f\"status code {response.status_code}\")\n",
    "if response.ok:\n",
    "    data = response.json()\n",
    "    pprint(data)"
   ]
  },
  {
   "cell_type": "code",
   "execution_count": null,
   "id": "e779659c",
   "metadata": {},
   "outputs": [],
   "source": []
  }
 ],
 "metadata": {
  "kernelspec": {
   "display_name": "fastapi-timescaledb",
   "language": "python",
   "name": "python3"
  },
  "language_info": {
   "codemirror_mode": {
    "name": "ipython",
    "version": 3
   },
   "file_extension": ".py",
   "mimetype": "text/x-python",
   "name": "python",
   "nbconvert_exporter": "python",
   "pygments_lexer": "ipython3",
   "version": "3.12.9"
  }
 },
 "nbformat": 4,
 "nbformat_minor": 5
}
